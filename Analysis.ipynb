{
 "cells": [
  {
   "cell_type": "markdown",
   "metadata": {},
   "source": [
    "# Step 2: It's time for analyze the data! \n",
    "\n",
    "### <li> Before start the data analysis is important to check a few more things that are essential for the data integrity, such as fixing formats, statistical information, and DataType. This way we can have an broad view of the Data Frame.</li>"
   ]
  },
  {
   "cell_type": "markdown",
   "metadata": {},
   "source": [
    "# Libraries"
   ]
  },
  {
   "cell_type": "code",
   "execution_count": 1,
   "metadata": {},
   "outputs": [],
   "source": [
    "import numpy as np\n",
    "import pandas as pd\n",
    "import matplotlib.pyplot as plt\n",
    "import seaborn as sns\n",
    "from matplotlib.patches import Circle\n",
    "\n",
    "plt.style.use('seaborn')"
   ]
  },
  {
   "cell_type": "markdown",
   "metadata": {},
   "source": [
    "# Loading Dataset"
   ]
  },
  {
   "cell_type": "code",
   "execution_count": 2,
   "metadata": {},
   "outputs": [
    {
     "data": {
      "text/html": [
       "<div>\n",
       "<style scoped>\n",
       "    .dataframe tbody tr th:only-of-type {\n",
       "        vertical-align: middle;\n",
       "    }\n",
       "\n",
       "    .dataframe tbody tr th {\n",
       "        vertical-align: top;\n",
       "    }\n",
       "\n",
       "    .dataframe thead th {\n",
       "        text-align: right;\n",
       "    }\n",
       "</style>\n",
       "<table border=\"1\" class=\"dataframe\">\n",
       "  <thead>\n",
       "    <tr style=\"text-align: right;\">\n",
       "      <th></th>\n",
       "      <th>tripduration</th>\n",
       "      <th>starttime</th>\n",
       "      <th>stoptime</th>\n",
       "      <th>start station name</th>\n",
       "      <th>start station latitude</th>\n",
       "      <th>start station longitude</th>\n",
       "      <th>end station name</th>\n",
       "      <th>end station latitude</th>\n",
       "      <th>end station longitude</th>\n",
       "      <th>usertype</th>\n",
       "      <th>birth year</th>\n",
       "      <th>age</th>\n",
       "      <th>gender</th>\n",
       "    </tr>\n",
       "  </thead>\n",
       "  <tbody>\n",
       "    <tr>\n",
       "      <th>0</th>\n",
       "      <td>156</td>\n",
       "      <td>2020-10-01 0:02:40</td>\n",
       "      <td>2020-10-01 0:05:17</td>\n",
       "      <td>Grove St PATH</td>\n",
       "      <td>40.719586</td>\n",
       "      <td>-74.043117</td>\n",
       "      <td>Jersey &amp; 6th St</td>\n",
       "      <td>40.725289</td>\n",
       "      <td>-74.045572</td>\n",
       "      <td>Subscriber</td>\n",
       "      <td>1996</td>\n",
       "      <td>-25</td>\n",
       "      <td>1</td>\n",
       "    </tr>\n",
       "    <tr>\n",
       "      <th>1</th>\n",
       "      <td>143</td>\n",
       "      <td>2020-10-01 0:02:54</td>\n",
       "      <td>2020-10-01 0:05:17</td>\n",
       "      <td>Grove St PATH</td>\n",
       "      <td>40.719586</td>\n",
       "      <td>-74.043117</td>\n",
       "      <td>Jersey &amp; 6th St</td>\n",
       "      <td>40.725289</td>\n",
       "      <td>-74.045572</td>\n",
       "      <td>Subscriber</td>\n",
       "      <td>1998</td>\n",
       "      <td>-23</td>\n",
       "      <td>1</td>\n",
       "    </tr>\n",
       "    <tr>\n",
       "      <th>2</th>\n",
       "      <td>305</td>\n",
       "      <td>2020-10-01 0:04:31</td>\n",
       "      <td>2020-10-01 0:09:36</td>\n",
       "      <td>Manila &amp; 1st</td>\n",
       "      <td>40.721651</td>\n",
       "      <td>-74.042884</td>\n",
       "      <td>Brunswick &amp; 6th</td>\n",
       "      <td>40.726012</td>\n",
       "      <td>-74.050389</td>\n",
       "      <td>Subscriber</td>\n",
       "      <td>1988</td>\n",
       "      <td>-33</td>\n",
       "      <td>2</td>\n",
       "    </tr>\n",
       "    <tr>\n",
       "      <th>3</th>\n",
       "      <td>1097</td>\n",
       "      <td>2020-10-01 0:05:18</td>\n",
       "      <td>2020-10-01 0:23:36</td>\n",
       "      <td>Newport Pkwy</td>\n",
       "      <td>40.728745</td>\n",
       "      <td>-74.032108</td>\n",
       "      <td>Leonard Gordon Park</td>\n",
       "      <td>40.745910</td>\n",
       "      <td>-74.057271</td>\n",
       "      <td>Customer</td>\n",
       "      <td>2001</td>\n",
       "      <td>-20</td>\n",
       "      <td>1</td>\n",
       "    </tr>\n",
       "    <tr>\n",
       "      <th>4</th>\n",
       "      <td>277</td>\n",
       "      <td>2020-10-01 0:09:18</td>\n",
       "      <td>2020-10-01 0:13:56</td>\n",
       "      <td>Newport Pkwy</td>\n",
       "      <td>40.728745</td>\n",
       "      <td>-74.032108</td>\n",
       "      <td>Washington St</td>\n",
       "      <td>40.724294</td>\n",
       "      <td>-74.035483</td>\n",
       "      <td>Subscriber</td>\n",
       "      <td>1965</td>\n",
       "      <td>-56</td>\n",
       "      <td>1</td>\n",
       "    </tr>\n",
       "    <tr>\n",
       "      <th>...</th>\n",
       "      <td>...</td>\n",
       "      <td>...</td>\n",
       "      <td>...</td>\n",
       "      <td>...</td>\n",
       "      <td>...</td>\n",
       "      <td>...</td>\n",
       "      <td>...</td>\n",
       "      <td>...</td>\n",
       "      <td>...</td>\n",
       "      <td>...</td>\n",
       "      <td>...</td>\n",
       "      <td>...</td>\n",
       "      <td>...</td>\n",
       "    </tr>\n",
       "    <tr>\n",
       "      <th>336797</th>\n",
       "      <td>270</td>\n",
       "      <td>2020-10-13 15:05:35</td>\n",
       "      <td>2020-10-13 15:10:05</td>\n",
       "      <td>Oakland Ave</td>\n",
       "      <td>40.737604</td>\n",
       "      <td>-74.052478</td>\n",
       "      <td>Journal Square</td>\n",
       "      <td>40.733670</td>\n",
       "      <td>-74.062500</td>\n",
       "      <td>Subscriber</td>\n",
       "      <td>1963</td>\n",
       "      <td>-58</td>\n",
       "      <td>2</td>\n",
       "    </tr>\n",
       "    <tr>\n",
       "      <th>336798</th>\n",
       "      <td>400</td>\n",
       "      <td>2020-10-13 15:09:03</td>\n",
       "      <td>2020-10-13 15:15:44</td>\n",
       "      <td>Brunswick St</td>\n",
       "      <td>40.724176</td>\n",
       "      <td>-74.050656</td>\n",
       "      <td>Brunswick St</td>\n",
       "      <td>40.724176</td>\n",
       "      <td>-74.050656</td>\n",
       "      <td>Subscriber</td>\n",
       "      <td>1984</td>\n",
       "      <td>-37</td>\n",
       "      <td>1</td>\n",
       "    </tr>\n",
       "    <tr>\n",
       "      <th>336799</th>\n",
       "      <td>206</td>\n",
       "      <td>2020-10-13 15:11:34</td>\n",
       "      <td>2020-10-13 15:15:01</td>\n",
       "      <td>Sip Ave</td>\n",
       "      <td>40.730897</td>\n",
       "      <td>-74.063913</td>\n",
       "      <td>McGinley Square</td>\n",
       "      <td>40.725340</td>\n",
       "      <td>-74.067622</td>\n",
       "      <td>Subscriber</td>\n",
       "      <td>1993</td>\n",
       "      <td>-28</td>\n",
       "      <td>1</td>\n",
       "    </tr>\n",
       "    <tr>\n",
       "      <th>336800</th>\n",
       "      <td>216</td>\n",
       "      <td>2020-10-13 15:11:49</td>\n",
       "      <td>2020-10-13 15:15:26</td>\n",
       "      <td>Sip Ave</td>\n",
       "      <td>40.730897</td>\n",
       "      <td>-74.063913</td>\n",
       "      <td>Baldwin at Montgomery</td>\n",
       "      <td>40.723659</td>\n",
       "      <td>-74.064194</td>\n",
       "      <td>Subscriber</td>\n",
       "      <td>1966</td>\n",
       "      <td>-55</td>\n",
       "      <td>1</td>\n",
       "    </tr>\n",
       "    <tr>\n",
       "      <th>336801</th>\n",
       "      <td>418</td>\n",
       "      <td>2020-10-13 15:12:32</td>\n",
       "      <td>2020-10-13 15:19:31</td>\n",
       "      <td>Morris Canal</td>\n",
       "      <td>40.712419</td>\n",
       "      <td>-74.038526</td>\n",
       "      <td>Grove St PATH</td>\n",
       "      <td>40.719586</td>\n",
       "      <td>-74.043117</td>\n",
       "      <td>Subscriber</td>\n",
       "      <td>1991</td>\n",
       "      <td>-30</td>\n",
       "      <td>1</td>\n",
       "    </tr>\n",
       "  </tbody>\n",
       "</table>\n",
       "<p>336802 rows × 13 columns</p>\n",
       "</div>"
      ],
      "text/plain": [
       "        tripduration            starttime             stoptime  \\\n",
       "0                156   2020-10-01 0:02:40   2020-10-01 0:05:17   \n",
       "1                143   2020-10-01 0:02:54   2020-10-01 0:05:17   \n",
       "2                305   2020-10-01 0:04:31   2020-10-01 0:09:36   \n",
       "3               1097   2020-10-01 0:05:18   2020-10-01 0:23:36   \n",
       "4                277   2020-10-01 0:09:18   2020-10-01 0:13:56   \n",
       "...              ...                  ...                  ...   \n",
       "336797           270  2020-10-13 15:05:35  2020-10-13 15:10:05   \n",
       "336798           400  2020-10-13 15:09:03  2020-10-13 15:15:44   \n",
       "336799           206  2020-10-13 15:11:34  2020-10-13 15:15:01   \n",
       "336800           216  2020-10-13 15:11:49  2020-10-13 15:15:26   \n",
       "336801           418  2020-10-13 15:12:32  2020-10-13 15:19:31   \n",
       "\n",
       "       start station name  start station latitude  start station longitude  \\\n",
       "0           Grove St PATH               40.719586               -74.043117   \n",
       "1           Grove St PATH               40.719586               -74.043117   \n",
       "2            Manila & 1st               40.721651               -74.042884   \n",
       "3            Newport Pkwy               40.728745               -74.032108   \n",
       "4            Newport Pkwy               40.728745               -74.032108   \n",
       "...                   ...                     ...                      ...   \n",
       "336797        Oakland Ave               40.737604               -74.052478   \n",
       "336798       Brunswick St               40.724176               -74.050656   \n",
       "336799            Sip Ave               40.730897               -74.063913   \n",
       "336800            Sip Ave               40.730897               -74.063913   \n",
       "336801       Morris Canal               40.712419               -74.038526   \n",
       "\n",
       "             end station name  end station latitude  end station longitude  \\\n",
       "0             Jersey & 6th St             40.725289             -74.045572   \n",
       "1             Jersey & 6th St             40.725289             -74.045572   \n",
       "2             Brunswick & 6th             40.726012             -74.050389   \n",
       "3         Leonard Gordon Park             40.745910             -74.057271   \n",
       "4               Washington St             40.724294             -74.035483   \n",
       "...                       ...                   ...                    ...   \n",
       "336797         Journal Square             40.733670             -74.062500   \n",
       "336798           Brunswick St             40.724176             -74.050656   \n",
       "336799        McGinley Square             40.725340             -74.067622   \n",
       "336800  Baldwin at Montgomery             40.723659             -74.064194   \n",
       "336801          Grove St PATH             40.719586             -74.043117   \n",
       "\n",
       "          usertype  birth year  age  gender  \n",
       "0       Subscriber        1996  -25       1  \n",
       "1       Subscriber        1998  -23       1  \n",
       "2       Subscriber        1988  -33       2  \n",
       "3         Customer        2001  -20       1  \n",
       "4       Subscriber        1965  -56       1  \n",
       "...            ...         ...  ...     ...  \n",
       "336797  Subscriber        1963  -58       2  \n",
       "336798  Subscriber        1984  -37       1  \n",
       "336799  Subscriber        1993  -28       1  \n",
       "336800  Subscriber        1966  -55       1  \n",
       "336801  Subscriber        1991  -30       1  \n",
       "\n",
       "[336802 rows x 13 columns]"
      ]
     },
     "execution_count": 2,
     "metadata": {},
     "output_type": "execute_result"
    }
   ],
   "source": [
    "df = pd.read_csv('/home/igor/Desktop/Case Study/TripData CitiBike/V2/TripData_2020_v02.csv')\n",
    "df"
   ]
  },
  {
   "cell_type": "markdown",
   "metadata": {},
   "source": [
    "# Fixing Formats"
   ]
  },
  {
   "cell_type": "code",
   "execution_count": 3,
   "metadata": {},
   "outputs": [],
   "source": [
    "df['starttime'] = pd.to_datetime(df.starttime)"
   ]
  },
  {
   "cell_type": "code",
   "execution_count": 4,
   "metadata": {},
   "outputs": [
    {
     "data": {
      "text/html": [
       "<div>\n",
       "<style scoped>\n",
       "    .dataframe tbody tr th:only-of-type {\n",
       "        vertical-align: middle;\n",
       "    }\n",
       "\n",
       "    .dataframe tbody tr th {\n",
       "        vertical-align: top;\n",
       "    }\n",
       "\n",
       "    .dataframe thead th {\n",
       "        text-align: right;\n",
       "    }\n",
       "</style>\n",
       "<table border=\"1\" class=\"dataframe\">\n",
       "  <thead>\n",
       "    <tr style=\"text-align: right;\">\n",
       "      <th></th>\n",
       "      <th>tripduration</th>\n",
       "      <th>starttime</th>\n",
       "      <th>stoptime</th>\n",
       "      <th>start station name</th>\n",
       "      <th>start station latitude</th>\n",
       "      <th>start station longitude</th>\n",
       "      <th>end station name</th>\n",
       "      <th>end station latitude</th>\n",
       "      <th>end station longitude</th>\n",
       "      <th>usertype</th>\n",
       "      <th>birth year</th>\n",
       "      <th>age</th>\n",
       "      <th>gender</th>\n",
       "    </tr>\n",
       "  </thead>\n",
       "  <tbody>\n",
       "    <tr>\n",
       "      <th>0</th>\n",
       "      <td>156</td>\n",
       "      <td>2020-10-01 00:02:40</td>\n",
       "      <td>2020-10-01 00:05:17</td>\n",
       "      <td>Grove St PATH</td>\n",
       "      <td>40.719586</td>\n",
       "      <td>-74.043117</td>\n",
       "      <td>Jersey &amp; 6th St</td>\n",
       "      <td>40.725289</td>\n",
       "      <td>-74.045572</td>\n",
       "      <td>Subscriber</td>\n",
       "      <td>1996</td>\n",
       "      <td>-25</td>\n",
       "      <td>1</td>\n",
       "    </tr>\n",
       "    <tr>\n",
       "      <th>1</th>\n",
       "      <td>143</td>\n",
       "      <td>2020-10-01 00:02:54</td>\n",
       "      <td>2020-10-01 00:05:17</td>\n",
       "      <td>Grove St PATH</td>\n",
       "      <td>40.719586</td>\n",
       "      <td>-74.043117</td>\n",
       "      <td>Jersey &amp; 6th St</td>\n",
       "      <td>40.725289</td>\n",
       "      <td>-74.045572</td>\n",
       "      <td>Subscriber</td>\n",
       "      <td>1998</td>\n",
       "      <td>-23</td>\n",
       "      <td>1</td>\n",
       "    </tr>\n",
       "    <tr>\n",
       "      <th>2</th>\n",
       "      <td>305</td>\n",
       "      <td>2020-10-01 00:04:31</td>\n",
       "      <td>2020-10-01 00:09:36</td>\n",
       "      <td>Manila &amp; 1st</td>\n",
       "      <td>40.721651</td>\n",
       "      <td>-74.042884</td>\n",
       "      <td>Brunswick &amp; 6th</td>\n",
       "      <td>40.726012</td>\n",
       "      <td>-74.050389</td>\n",
       "      <td>Subscriber</td>\n",
       "      <td>1988</td>\n",
       "      <td>-33</td>\n",
       "      <td>2</td>\n",
       "    </tr>\n",
       "    <tr>\n",
       "      <th>3</th>\n",
       "      <td>1097</td>\n",
       "      <td>2020-10-01 00:05:18</td>\n",
       "      <td>2020-10-01 00:23:36</td>\n",
       "      <td>Newport Pkwy</td>\n",
       "      <td>40.728745</td>\n",
       "      <td>-74.032108</td>\n",
       "      <td>Leonard Gordon Park</td>\n",
       "      <td>40.745910</td>\n",
       "      <td>-74.057271</td>\n",
       "      <td>Customer</td>\n",
       "      <td>2001</td>\n",
       "      <td>-20</td>\n",
       "      <td>1</td>\n",
       "    </tr>\n",
       "    <tr>\n",
       "      <th>4</th>\n",
       "      <td>277</td>\n",
       "      <td>2020-10-01 00:09:18</td>\n",
       "      <td>2020-10-01 00:13:56</td>\n",
       "      <td>Newport Pkwy</td>\n",
       "      <td>40.728745</td>\n",
       "      <td>-74.032108</td>\n",
       "      <td>Washington St</td>\n",
       "      <td>40.724294</td>\n",
       "      <td>-74.035483</td>\n",
       "      <td>Subscriber</td>\n",
       "      <td>1965</td>\n",
       "      <td>-56</td>\n",
       "      <td>1</td>\n",
       "    </tr>\n",
       "    <tr>\n",
       "      <th>...</th>\n",
       "      <td>...</td>\n",
       "      <td>...</td>\n",
       "      <td>...</td>\n",
       "      <td>...</td>\n",
       "      <td>...</td>\n",
       "      <td>...</td>\n",
       "      <td>...</td>\n",
       "      <td>...</td>\n",
       "      <td>...</td>\n",
       "      <td>...</td>\n",
       "      <td>...</td>\n",
       "      <td>...</td>\n",
       "      <td>...</td>\n",
       "    </tr>\n",
       "    <tr>\n",
       "      <th>336797</th>\n",
       "      <td>270</td>\n",
       "      <td>2020-10-13 15:05:35</td>\n",
       "      <td>2020-10-13 15:10:05</td>\n",
       "      <td>Oakland Ave</td>\n",
       "      <td>40.737604</td>\n",
       "      <td>-74.052478</td>\n",
       "      <td>Journal Square</td>\n",
       "      <td>40.733670</td>\n",
       "      <td>-74.062500</td>\n",
       "      <td>Subscriber</td>\n",
       "      <td>1963</td>\n",
       "      <td>-58</td>\n",
       "      <td>2</td>\n",
       "    </tr>\n",
       "    <tr>\n",
       "      <th>336798</th>\n",
       "      <td>400</td>\n",
       "      <td>2020-10-13 15:09:03</td>\n",
       "      <td>2020-10-13 15:15:44</td>\n",
       "      <td>Brunswick St</td>\n",
       "      <td>40.724176</td>\n",
       "      <td>-74.050656</td>\n",
       "      <td>Brunswick St</td>\n",
       "      <td>40.724176</td>\n",
       "      <td>-74.050656</td>\n",
       "      <td>Subscriber</td>\n",
       "      <td>1984</td>\n",
       "      <td>-37</td>\n",
       "      <td>1</td>\n",
       "    </tr>\n",
       "    <tr>\n",
       "      <th>336799</th>\n",
       "      <td>206</td>\n",
       "      <td>2020-10-13 15:11:34</td>\n",
       "      <td>2020-10-13 15:15:01</td>\n",
       "      <td>Sip Ave</td>\n",
       "      <td>40.730897</td>\n",
       "      <td>-74.063913</td>\n",
       "      <td>McGinley Square</td>\n",
       "      <td>40.725340</td>\n",
       "      <td>-74.067622</td>\n",
       "      <td>Subscriber</td>\n",
       "      <td>1993</td>\n",
       "      <td>-28</td>\n",
       "      <td>1</td>\n",
       "    </tr>\n",
       "    <tr>\n",
       "      <th>336800</th>\n",
       "      <td>216</td>\n",
       "      <td>2020-10-13 15:11:49</td>\n",
       "      <td>2020-10-13 15:15:26</td>\n",
       "      <td>Sip Ave</td>\n",
       "      <td>40.730897</td>\n",
       "      <td>-74.063913</td>\n",
       "      <td>Baldwin at Montgomery</td>\n",
       "      <td>40.723659</td>\n",
       "      <td>-74.064194</td>\n",
       "      <td>Subscriber</td>\n",
       "      <td>1966</td>\n",
       "      <td>-55</td>\n",
       "      <td>1</td>\n",
       "    </tr>\n",
       "    <tr>\n",
       "      <th>336801</th>\n",
       "      <td>418</td>\n",
       "      <td>2020-10-13 15:12:32</td>\n",
       "      <td>2020-10-13 15:19:31</td>\n",
       "      <td>Morris Canal</td>\n",
       "      <td>40.712419</td>\n",
       "      <td>-74.038526</td>\n",
       "      <td>Grove St PATH</td>\n",
       "      <td>40.719586</td>\n",
       "      <td>-74.043117</td>\n",
       "      <td>Subscriber</td>\n",
       "      <td>1991</td>\n",
       "      <td>-30</td>\n",
       "      <td>1</td>\n",
       "    </tr>\n",
       "  </tbody>\n",
       "</table>\n",
       "<p>336802 rows × 13 columns</p>\n",
       "</div>"
      ],
      "text/plain": [
       "        tripduration           starttime            stoptime  \\\n",
       "0                156 2020-10-01 00:02:40 2020-10-01 00:05:17   \n",
       "1                143 2020-10-01 00:02:54 2020-10-01 00:05:17   \n",
       "2                305 2020-10-01 00:04:31 2020-10-01 00:09:36   \n",
       "3               1097 2020-10-01 00:05:18 2020-10-01 00:23:36   \n",
       "4                277 2020-10-01 00:09:18 2020-10-01 00:13:56   \n",
       "...              ...                 ...                 ...   \n",
       "336797           270 2020-10-13 15:05:35 2020-10-13 15:10:05   \n",
       "336798           400 2020-10-13 15:09:03 2020-10-13 15:15:44   \n",
       "336799           206 2020-10-13 15:11:34 2020-10-13 15:15:01   \n",
       "336800           216 2020-10-13 15:11:49 2020-10-13 15:15:26   \n",
       "336801           418 2020-10-13 15:12:32 2020-10-13 15:19:31   \n",
       "\n",
       "       start station name  start station latitude  start station longitude  \\\n",
       "0           Grove St PATH               40.719586               -74.043117   \n",
       "1           Grove St PATH               40.719586               -74.043117   \n",
       "2            Manila & 1st               40.721651               -74.042884   \n",
       "3            Newport Pkwy               40.728745               -74.032108   \n",
       "4            Newport Pkwy               40.728745               -74.032108   \n",
       "...                   ...                     ...                      ...   \n",
       "336797        Oakland Ave               40.737604               -74.052478   \n",
       "336798       Brunswick St               40.724176               -74.050656   \n",
       "336799            Sip Ave               40.730897               -74.063913   \n",
       "336800            Sip Ave               40.730897               -74.063913   \n",
       "336801       Morris Canal               40.712419               -74.038526   \n",
       "\n",
       "             end station name  end station latitude  end station longitude  \\\n",
       "0             Jersey & 6th St             40.725289             -74.045572   \n",
       "1             Jersey & 6th St             40.725289             -74.045572   \n",
       "2             Brunswick & 6th             40.726012             -74.050389   \n",
       "3         Leonard Gordon Park             40.745910             -74.057271   \n",
       "4               Washington St             40.724294             -74.035483   \n",
       "...                       ...                   ...                    ...   \n",
       "336797         Journal Square             40.733670             -74.062500   \n",
       "336798           Brunswick St             40.724176             -74.050656   \n",
       "336799        McGinley Square             40.725340             -74.067622   \n",
       "336800  Baldwin at Montgomery             40.723659             -74.064194   \n",
       "336801          Grove St PATH             40.719586             -74.043117   \n",
       "\n",
       "          usertype  birth year  age  gender  \n",
       "0       Subscriber        1996  -25       1  \n",
       "1       Subscriber        1998  -23       1  \n",
       "2       Subscriber        1988  -33       2  \n",
       "3         Customer        2001  -20       1  \n",
       "4       Subscriber        1965  -56       1  \n",
       "...            ...         ...  ...     ...  \n",
       "336797  Subscriber        1963  -58       2  \n",
       "336798  Subscriber        1984  -37       1  \n",
       "336799  Subscriber        1993  -28       1  \n",
       "336800  Subscriber        1966  -55       1  \n",
       "336801  Subscriber        1991  -30       1  \n",
       "\n",
       "[336802 rows x 13 columns]"
      ]
     },
     "execution_count": 4,
     "metadata": {},
     "output_type": "execute_result"
    }
   ],
   "source": [
    "df['stoptime'] = pd.to_datetime(df.stoptime)\n",
    "df"
   ]
  },
  {
   "cell_type": "markdown",
   "metadata": {},
   "source": [
    "# Statistical Info"
   ]
  },
  {
   "cell_type": "code",
   "execution_count": 5,
   "metadata": {},
   "outputs": [
    {
     "data": {
      "text/html": [
       "<div>\n",
       "<style scoped>\n",
       "    .dataframe tbody tr th:only-of-type {\n",
       "        vertical-align: middle;\n",
       "    }\n",
       "\n",
       "    .dataframe tbody tr th {\n",
       "        vertical-align: top;\n",
       "    }\n",
       "\n",
       "    .dataframe thead th {\n",
       "        text-align: right;\n",
       "    }\n",
       "</style>\n",
       "<table border=\"1\" class=\"dataframe\">\n",
       "  <thead>\n",
       "    <tr style=\"text-align: right;\">\n",
       "      <th></th>\n",
       "      <th>tripduration</th>\n",
       "      <th>start station latitude</th>\n",
       "      <th>start station longitude</th>\n",
       "      <th>end station latitude</th>\n",
       "      <th>end station longitude</th>\n",
       "      <th>birth year</th>\n",
       "      <th>age</th>\n",
       "      <th>gender</th>\n",
       "    </tr>\n",
       "  </thead>\n",
       "  <tbody>\n",
       "    <tr>\n",
       "      <th>count</th>\n",
       "      <td>3.368020e+05</td>\n",
       "      <td>336802.000000</td>\n",
       "      <td>336802.000000</td>\n",
       "      <td>336802.000000</td>\n",
       "      <td>336802.000000</td>\n",
       "      <td>336802.000000</td>\n",
       "      <td>336802.000000</td>\n",
       "      <td>336802.000000</td>\n",
       "    </tr>\n",
       "    <tr>\n",
       "      <th>mean</th>\n",
       "      <td>1.574705e+03</td>\n",
       "      <td>40.722216</td>\n",
       "      <td>-74.046752</td>\n",
       "      <td>40.721736</td>\n",
       "      <td>-74.045932</td>\n",
       "      <td>1981.299158</td>\n",
       "      <td>-39.700842</td>\n",
       "      <td>1.096796</td>\n",
       "    </tr>\n",
       "    <tr>\n",
       "      <th>std</th>\n",
       "      <td>1.802477e+04</td>\n",
       "      <td>0.007351</td>\n",
       "      <td>0.011905</td>\n",
       "      <td>0.099504</td>\n",
       "      <td>0.180828</td>\n",
       "      <td>11.046780</td>\n",
       "      <td>11.046780</td>\n",
       "      <td>0.630384</td>\n",
       "    </tr>\n",
       "    <tr>\n",
       "      <th>min</th>\n",
       "      <td>6.100000e+01</td>\n",
       "      <td>40.709651</td>\n",
       "      <td>-74.083639</td>\n",
       "      <td>0.000000</td>\n",
       "      <td>-74.083639</td>\n",
       "      <td>1888.000000</td>\n",
       "      <td>-133.000000</td>\n",
       "      <td>0.000000</td>\n",
       "    </tr>\n",
       "    <tr>\n",
       "      <th>25%</th>\n",
       "      <td>3.260000e+02</td>\n",
       "      <td>40.716870</td>\n",
       "      <td>-74.051789</td>\n",
       "      <td>40.716870</td>\n",
       "      <td>-74.050656</td>\n",
       "      <td>1969.000000</td>\n",
       "      <td>-52.000000</td>\n",
       "      <td>1.000000</td>\n",
       "    </tr>\n",
       "    <tr>\n",
       "      <th>50%</th>\n",
       "      <td>6.150000e+02</td>\n",
       "      <td>40.721124</td>\n",
       "      <td>-74.043991</td>\n",
       "      <td>40.721124</td>\n",
       "      <td>-74.043845</td>\n",
       "      <td>1984.000000</td>\n",
       "      <td>-37.000000</td>\n",
       "      <td>1.000000</td>\n",
       "    </tr>\n",
       "    <tr>\n",
       "      <th>75%</th>\n",
       "      <td>1.416000e+03</td>\n",
       "      <td>40.727224</td>\n",
       "      <td>-74.037683</td>\n",
       "      <td>40.727224</td>\n",
       "      <td>-74.037683</td>\n",
       "      <td>1990.000000</td>\n",
       "      <td>-31.000000</td>\n",
       "      <td>2.000000</td>\n",
       "    </tr>\n",
       "    <tr>\n",
       "      <th>max</th>\n",
       "      <td>3.261756e+06</td>\n",
       "      <td>40.748716</td>\n",
       "      <td>-74.032108</td>\n",
       "      <td>40.848282</td>\n",
       "      <td>0.000000</td>\n",
       "      <td>2004.000000</td>\n",
       "      <td>-17.000000</td>\n",
       "      <td>2.000000</td>\n",
       "    </tr>\n",
       "  </tbody>\n",
       "</table>\n",
       "</div>"
      ],
      "text/plain": [
       "       tripduration  start station latitude  start station longitude  \\\n",
       "count  3.368020e+05           336802.000000            336802.000000   \n",
       "mean   1.574705e+03               40.722216               -74.046752   \n",
       "std    1.802477e+04                0.007351                 0.011905   \n",
       "min    6.100000e+01               40.709651               -74.083639   \n",
       "25%    3.260000e+02               40.716870               -74.051789   \n",
       "50%    6.150000e+02               40.721124               -74.043991   \n",
       "75%    1.416000e+03               40.727224               -74.037683   \n",
       "max    3.261756e+06               40.748716               -74.032108   \n",
       "\n",
       "       end station latitude  end station longitude     birth year  \\\n",
       "count         336802.000000          336802.000000  336802.000000   \n",
       "mean              40.721736             -74.045932    1981.299158   \n",
       "std                0.099504               0.180828      11.046780   \n",
       "min                0.000000             -74.083639    1888.000000   \n",
       "25%               40.716870             -74.050656    1969.000000   \n",
       "50%               40.721124             -74.043845    1984.000000   \n",
       "75%               40.727224             -74.037683    1990.000000   \n",
       "max               40.848282               0.000000    2004.000000   \n",
       "\n",
       "                 age         gender  \n",
       "count  336802.000000  336802.000000  \n",
       "mean      -39.700842       1.096796  \n",
       "std        11.046780       0.630384  \n",
       "min      -133.000000       0.000000  \n",
       "25%       -52.000000       1.000000  \n",
       "50%       -37.000000       1.000000  \n",
       "75%       -31.000000       2.000000  \n",
       "max       -17.000000       2.000000  "
      ]
     },
     "execution_count": 5,
     "metadata": {},
     "output_type": "execute_result"
    }
   ],
   "source": [
    "df.describe()"
   ]
  },
  {
   "cell_type": "markdown",
   "metadata": {},
   "source": [
    "# DataType Info"
   ]
  },
  {
   "cell_type": "code",
   "execution_count": 6,
   "metadata": {},
   "outputs": [
    {
     "name": "stdout",
     "output_type": "stream",
     "text": [
      "<class 'pandas.core.frame.DataFrame'>\n",
      "RangeIndex: 336802 entries, 0 to 336801\n",
      "Data columns (total 13 columns):\n",
      " #   Column                   Non-Null Count   Dtype         \n",
      "---  ------                   --------------   -----         \n",
      " 0   tripduration             336802 non-null  int64         \n",
      " 1   starttime                336802 non-null  datetime64[ns]\n",
      " 2   stoptime                 336802 non-null  datetime64[ns]\n",
      " 3   start station name       336802 non-null  object        \n",
      " 4   start station latitude   336802 non-null  float64       \n",
      " 5   start station longitude  336802 non-null  float64       \n",
      " 6   end station name         336802 non-null  object        \n",
      " 7   end station latitude     336802 non-null  float64       \n",
      " 8   end station longitude    336802 non-null  float64       \n",
      " 9   usertype                 336802 non-null  object        \n",
      " 10  birth year               336802 non-null  int64         \n",
      " 11  age                      336802 non-null  int64         \n",
      " 12  gender                   336802 non-null  int64         \n",
      "dtypes: datetime64[ns](2), float64(4), int64(4), object(3)\n",
      "memory usage: 33.4+ MB\n"
     ]
    }
   ],
   "source": [
    "df.info()"
   ]
  },
  {
   "cell_type": "markdown",
   "metadata": {},
   "source": [
    "# Total Missing Values in Each Column"
   ]
  },
  {
   "cell_type": "code",
   "execution_count": 7,
   "metadata": {},
   "outputs": [
    {
     "data": {
      "text/plain": [
       "tripduration               0\n",
       "starttime                  0\n",
       "stoptime                   0\n",
       "start station name         0\n",
       "start station latitude     0\n",
       "start station longitude    0\n",
       "end station name           0\n",
       "end station latitude       0\n",
       "end station longitude      0\n",
       "usertype                   0\n",
       "birth year                 0\n",
       "age                        0\n",
       "gender                     0\n",
       "dtype: int64"
      ]
     },
     "execution_count": 7,
     "metadata": {},
     "output_type": "execute_result"
    }
   ],
   "source": [
    "df.isna().sum()"
   ]
  },
  {
   "cell_type": "markdown",
   "metadata": {},
   "source": [
    "# **Data Analysis**"
   ]
  },
  {
   "cell_type": "markdown",
   "metadata": {},
   "source": [
    "# <li> Users Genders and Age</li>"
   ]
  },
  {
   "cell_type": "code",
   "execution_count": 8,
   "metadata": {},
   "outputs": [
    {
     "name": "stderr",
     "output_type": "stream",
     "text": [
      "/home/igor/anaconda3/lib/python3.8/site-packages/seaborn/_decorators.py:36: FutureWarning: Pass the following variable as a keyword arg: x. From version 0.12, the only valid positional argument will be `data`, and passing other arguments without an explicit keyword will result in an error or misinterpretation.\n",
      "  warnings.warn(\n"
     ]
    },
    {
     "data": {
      "image/png": "[encoded data removed]",
      "text/plain": [
       "<Figure size 576x396 with 1 Axes>"
      ]
     },
     "metadata": {},
     "output_type": "display_data"
    },
    {
     "data": {
      "text/plain": [
       "<Figure size 576x396 with 0 Axes>"
      ]
     },
     "metadata": {},
     "output_type": "display_data"
    }
   ],
   "source": [
    "splot = sns.countplot('gender', data=df)\n",
    "\n",
    "for p in splot.patches:\n",
    "    an = splot.annotate(format(p.get_height(), '.2f'),\n",
    "                       (p.get_x() + p.get_width() / 2., p.get_height()),\n",
    "                       ha = 'center',\n",
    "                       va = 'center', \n",
    "                       xytext = (0, 5.5), \n",
    "                       textcoords = 'offset points')\n",
    "    an.set_size(14)\n",
    "splot.axes.set_title(\"Users Genders\",fontsize=30)\n",
    "splot.axes.set_xlabel(\"Gender\",fontsize=20)\n",
    "splot.axes.set_ylabel(\"Number of Users\",fontsize=20)\n",
    "\n",
    "splot.axes.set_xticklabels(['Unknown', 'Male', 'Female'])\n",
    "plt.show()\n",
    "plt.savefig('usersgenders2.png')"
   ]
  },
  {
   "cell_type": "code",
   "execution_count": 9,
   "metadata": {},
   "outputs": [],
   "source": [
    "skip = (df['birth year'] < 1946) | (df['gender'] == 0) \n",
    "df['age'] = (2021 - df['birth year']).mask(skip,None)"
   ]
  },
  {
   "cell_type": "code",
   "execution_count": 10,
   "metadata": {},
   "outputs": [
    {
     "data": {
      "image/png": "[encoded data removed]",
      "text/plain": [
       "<Figure size 881.625x360 with 1 Axes>"
      ]
     },
     "metadata": {},
     "output_type": "display_data"
    }
   ],
   "source": [
    "# Gender 1 = Male, Gender 2 = Female, Gender 0 = Unknown\n",
    "sns.displot(data=df, x='age', hue='gender', multiple='stack',  aspect=14/6) ;\n",
    "plt.savefig('agebygender.png')"
   ]
  },
  {
   "cell_type": "markdown",
   "metadata": {},
   "source": [
    "# <li>Subscribers vs Customers</li>"
   ]
  },
  {
   "cell_type": "code",
   "execution_count": 11,
   "metadata": {},
   "outputs": [
    {
     "data": {
      "image/png": "[encoded data removed]",
      "text/plain": [
       "<Figure size 576x396 with 1 Axes>"
      ]
     },
     "metadata": {},
     "output_type": "display_data"
    },
    {
     "data": {
      "text/plain": [
       "<Figure size 576x396 with 0 Axes>"
      ]
     },
     "metadata": {},
     "output_type": "display_data"
    }
   ],
   "source": [
    "user_count = df['usertype'].value_counts()\n",
    "plt.pie(user_count.values, labels=user_count.index ,autopct='%1.2f%%', textprops={'fontsize': 20} )\n",
    "plt.title('Subscribers vs Customers', fontsize=22)\n",
    "plt.show()\n",
    "plt.savefig('subscribersvscuscomers.png')"
   ]
  },
  {
   "cell_type": "code",
   "execution_count": 12,
   "metadata": {},
   "outputs": [
    {
     "data": {
      "image/png": "[encoded data removed]",
      "text/plain": [
       "<Figure size 803.5x360 with 1 Axes>"
      ]
     },
     "metadata": {},
     "output_type": "display_data"
    }
   ],
   "source": [
    "sns.displot(data=df,x=\"birth year\", bins=range(1946,2004), hue='usertype', multiple='stack' , hue_order=[\"Subscriber\",\"Customer\"], aspect=10/5); \n",
    "plt.savefig('ageusertype.png')"
   ]
  },
  {
   "cell_type": "markdown",
   "metadata": {},
   "source": [
    "# <li>Trip Duration</li>"
   ]
  },
  {
   "cell_type": "code",
   "execution_count": 13,
   "metadata": {},
   "outputs": [
    {
     "data": {
      "image/png": "[encoded data removed]",
      "text/plain": [
       "<Figure size 1080x360 with 1 Axes>"
      ]
     },
     "metadata": {},
     "output_type": "display_data"
    }
   ],
   "source": [
    "df['triduration'] = df['tripduration'] // 60\n",
    "sns.displot(data=df,x=\"tripduration\", bins=range(1,61), aspect=12/4);\n",
    "plt.savefig('tripduration.png')"
   ]
  },
  {
   "cell_type": "code",
   "execution_count": 14,
   "metadata": {},
   "outputs": [
    {
     "data": {
      "image/png": "[encoded data removed]",
      "text/plain": [
       "<Figure size 576x396 with 1 Axes>"
      ]
     },
     "metadata": {},
     "output_type": "display_data"
    }
   ],
   "source": [
    "df['tripduration'] = df['tripduration']/60\n",
    "df['tripduration_bins'] = pd.cut(df['tripduration'], [0, 30, 60, 120])\n",
    "\n",
    "sns.barplot(x='tripduration_bins', y='tripduration', data=df, estimator=np.size)\n",
    "plt.title('Trip Duration', fontsize=30)\n",
    "plt.xlabel('Trip Duration by Minutes', fontsize=20)\n",
    "plt.ylabel('Number of Trips', fontsize=20)\n",
    "plt.show()"
   ]
  },
  {
   "cell_type": "code",
   "execution_count": 15,
   "metadata": {},
   "outputs": [
    {
     "data": {
      "image/png": "[encoded data removed]",
      "text/plain": [
       "<Figure size 1008x432 with 1 Axes>"
      ]
     },
     "metadata": {},
     "output_type": "display_data"
    }
   ],
   "source": [
    "df['Start Hours']=df['starttime'].dt.hour.astype('category')\n",
    "df['start day']=df['starttime'].dt.day.astype('category') \n",
    "df['weekday']=df['starttime'].dt.weekday.astype('category')\n",
    "\n",
    "plt.figure(figsize=(14,6))\n",
    "sns.countplot(data=df, x=\"Start Hours\");\n",
    "plt.savefig('starthours.png')"
   ]
  },
  {
   "cell_type": "code",
   "execution_count": 21,
   "metadata": {},
   "outputs": [
    {
     "ename": "SyntaxError",
     "evalue": "invalid syntax (<ipython-input-21-c91fb99d7cfe>, line 1)",
     "output_type": "error",
     "traceback": [
      "\u001b[0;36m  File \u001b[0;32m\"<ipython-input-21-c91fb99d7cfe>\"\u001b[0;36m, line \u001b[0;32m1\u001b[0m\n\u001b[0;31m    df['weekend'] = (if d >= 5 for d in df['weekday'])\u001b[0m\n\u001b[0m                     ^\u001b[0m\n\u001b[0;31mSyntaxError\u001b[0m\u001b[0;31m:\u001b[0m invalid syntax\n"
     ]
    }
   ],
   "source": [
    "df['weekend'] = [if d >= 5 for d in df['weekday']]\n",
    "plt.figure(figsize=(12,6))\n",
    "sns.set_palette(\"Set2\")\n",
    "sns.countplot(data=df,x=\"start day\", hue='weekend', dodge=False);"
   ]
  },
  {
   "cell_type": "markdown",
   "metadata": {},
   "source": [
    "# <li>Stations Use</li>"
   ]
  },
  {
   "cell_type": "code",
   "execution_count": null,
   "metadata": {},
   "outputs": [
    {
     "data": {
      "image/png": "[encoded data removed]",
      "text/plain": [
       "<Figure size 864x720 with 1 Axes>"
      ]
     },
     "metadata": {},
     "output_type": "display_data"
    }
   ],
   "source": [
    "startstation = df['start station name'].value_counts()[:10]\n",
    "plt.figure(figsize=(12,10))\n",
    "sns.barplot( x=startstation.values , y=list(startstation.index), orient=\"h\");\n",
    "plt.savefig('moststationsused.png')"
   ]
  }
 ],
 "metadata": {
  "interpreter": {
   "hash": "8b9a41eef178742144533bf471dcfc8fe173280803a3591b510817b308430f9b"
  },
  "kernelspec": {
   "display_name": "Python 3.8.8 64-bit ('base': conda)",
   "name": "python3"
  },
  "language_info": {
   "codemirror_mode": {
    "name": "ipython",
    "version": 3
   },
   "file_extension": ".py",
   "mimetype": "text/x-python",
   "name": "python",
   "nbconvert_exporter": "python",
   "pygments_lexer": "ipython3",
   "version": "3.8.8"
  },
  "orig_nbformat": 4
 },
 "nbformat": 4,
 "nbformat_minor": 2
}